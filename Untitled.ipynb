{
 "cells": [
  {
   "cell_type": "code",
   "execution_count": 3,
   "metadata": {},
   "outputs": [],
   "source": [
    "import json\n",
    "import matplotlib.pyplot as plt\n",
    "\n",
    "%matplotlib inline\n",
    "\n",
    "def get_info_json(filename):\n",
    "    with open(os.path.join(\"/media/urw7rs/hdd/bdd100k/info/100k/train\", filename)) as f:\n",
    "        raw_json = json.load(f)\n",
    "\n",
    "    return raw_json"
   ]
  },
  {
   "cell_type": "code",
   "execution_count": 4,
   "metadata": {},
   "outputs": [
    {
     "ename": "NameError",
     "evalue": "name 'label' is not defined",
     "output_type": "error",
     "traceback": [
      "\u001b[0;31m---------------------------------------------------------------------------\u001b[0m",
      "\u001b[0;31mNameError\u001b[0m                                 Traceback (most recent call last)",
      "\u001b[0;32m/tmp/ipykernel_139560/2824300951.py\u001b[0m in \u001b[0;36m<module>\u001b[0;34m\u001b[0m\n\u001b[0;32m----> 1\u001b[0;31m \u001b[0mlocation_keys\u001b[0m \u001b[0;34m=\u001b[0m \u001b[0mlabel\u001b[0m\u001b[0;34m[\u001b[0m\u001b[0;34m\"locations\"\u001b[0m\u001b[0;34m]\u001b[0m\u001b[0;34m[\u001b[0m\u001b[0;36m0\u001b[0m\u001b[0;34m]\u001b[0m\u001b[0;34m.\u001b[0m\u001b[0mkeys\u001b[0m\u001b[0;34m(\u001b[0m\u001b[0;34m)\u001b[0m\u001b[0;34m\u001b[0m\u001b[0;34m\u001b[0m\u001b[0m\n\u001b[0m\u001b[1;32m      2\u001b[0m \u001b[0mprint\u001b[0m\u001b[0;34m(\u001b[0m\u001b[0mlocation_keys\u001b[0m\u001b[0;34m)\u001b[0m\u001b[0;34m\u001b[0m\u001b[0;34m\u001b[0m\u001b[0m\n\u001b[1;32m      3\u001b[0m \u001b[0mloc\u001b[0m \u001b[0;34m=\u001b[0m \u001b[0;34m{\u001b[0m\u001b[0;34m}\u001b[0m\u001b[0;34m\u001b[0m\u001b[0;34m\u001b[0m\u001b[0m\n\u001b[1;32m      4\u001b[0m \u001b[0;32mfor\u001b[0m \u001b[0mk\u001b[0m \u001b[0;32min\u001b[0m \u001b[0mlocation_keys\u001b[0m\u001b[0;34m:\u001b[0m\u001b[0;34m\u001b[0m\u001b[0;34m\u001b[0m\u001b[0m\n\u001b[1;32m      5\u001b[0m     \u001b[0mloc\u001b[0m\u001b[0;34m[\u001b[0m\u001b[0mk\u001b[0m\u001b[0;34m]\u001b[0m \u001b[0;34m=\u001b[0m \u001b[0;34m[\u001b[0m\u001b[0ml\u001b[0m\u001b[0;34m[\u001b[0m\u001b[0mk\u001b[0m\u001b[0;34m]\u001b[0m \u001b[0;32mfor\u001b[0m \u001b[0ml\u001b[0m \u001b[0;32min\u001b[0m \u001b[0mlabel\u001b[0m\u001b[0;34m[\u001b[0m\u001b[0;34m\"locations\"\u001b[0m\u001b[0;34m]\u001b[0m\u001b[0;34m]\u001b[0m\u001b[0;34m\u001b[0m\u001b[0;34m\u001b[0m\u001b[0m\n",
      "\u001b[0;31mNameError\u001b[0m: name 'label' is not defined"
     ]
    }
   ],
   "source": [
    "location_keys = label[\"locations\"][0].keys()\n",
    "print(location_keys)\n",
    "loc = {}\n",
    "for k in location_keys:\n",
    "    loc[k] = [l[k] for l in label[\"locations\"]]\n",
    "\n",
    "if \"gps\" in label.keys():\n",
    "    gps_keys = label[\"gps\"][0].keys()\n",
    "    print(gps_keys)\n",
    "\n",
    "    gps = {}\n",
    "    for k in gps_keys:\n",
    "        gps[k] = [l[k] for l in label[\"gps\"]]"
   ]
  },
  {
   "cell_type": "code",
   "execution_count": 5,
   "metadata": {},
   "outputs": [],
   "source": [
    "import json\n",
    "\n",
    "def graph_imu(filename, gyro=True, accel=True, gps=True, locations=True, bias=0.0, delay=0):\n",
    "    label = get_info_json(filename)\n",
    "\n",
    "    if gyro:\n",
    "        gyro = label[\"gyro\"]\n",
    "        gyro_t = np.array([l[\"timestamp\"] for l in gyro])\n",
    "        gyro_t -= gyro_t[0]\n",
    "\n",
    "        gyro_x = np.array([l[\"x\"] for l in gyro])\n",
    "        gyro_y = np.array([l[\"y\"] for l in gyro])\n",
    "        gyro_z = np.array([l[\"z\"] for l in gyro])\n",
    "\n",
    "        fig, axs = plt.subplots(3, 1, figsize=(24, 36))\n",
    "\n",
    "        axs[0].plot(gyro_t, 180 * gyro_x / np.pi, label=\"x\")\n",
    "        axs[1].plot(gyro_t, 180 * gyro_y / np.pi, label=\"y\", color=\"orange\")\n",
    "        axs[2].plot(gyro_t, 180 * gyro_z / np.pi, label=\"z\", color=\"green\")\n",
    "\n",
    "        axs[0].set_title(\"x axis gyro\", fontsize=25);\n",
    "        axs[1].set_title(\"y axis gyro\", fontsize=25);\n",
    "        axs[2].set_title(\"z axis gyro\", fontsize=25);\n",
    "\n",
    "\n",
    "        for i in range(3):\n",
    "            axs[i].set_xlabel(\"ms\", fontsize=18);\n",
    "            axs[i].set_ylabel(\"degree/s\", fontsize=18);\n",
    "\n",
    "        plt.show()\n",
    "\n",
    "    if accel:\n",
    "        accel = label[\"accelerometer\"]\n",
    "        accel_t = np.array([l[\"timestamp\"] for l in accel])\n",
    "        accel_t -= accel_t[0]\n",
    "\n",
    "        accel_x = np.array([l[\"x\"] for l in accel])\n",
    "        accel_y = np.array([l[\"y\"] for l in accel])\n",
    "        accel_z = np.array([l[\"z\"] for l in accel])\n",
    "\n",
    "        fig, axs = plt.subplots(3, 1, figsize=(24, 36))\n",
    "\n",
    "        axs[0].plot(accel_t, accel_x, label=\"x\");\n",
    "        accel_y = accel_y[1:] - accel_y[:-1]\n",
    "        axs[1].plot(accel_t[1:], accel_y, label=\"y\", color=\"orange\", linewidth=1);\n",
    "        axs[2].plot(accel_t, accel_z, label=\"z\", color=\"green\");\n",
    "\n",
    "        axs[0].set_title(\"x axis accelerometer\", fontsize=25);\n",
    "        axs[1].set_title(\"y axis accelerometer\", fontsize=25);\n",
    "        axs[2].set_title(\"z axis accelerometer\", fontsize=25);\n",
    "\n",
    "\n",
    "        for i in range(3):\n",
    "            axs[i].set_xlabel(\"ms\", fontsize=18);\n",
    "            axs[i].set_ylabel(\"m/s^2\", fontsize=18);\n",
    "\n",
    "        plt.show()\n",
    "    \n",
    "    if gps:\n",
    "        if \"gps\" in label.keys():\n",
    "            gps_keys = label[\"gps\"][0].keys()\n",
    "            gps = {}\n",
    "            for k in gps_keys:\n",
    "                gps[k] = [l[k] for l in label[\"gps\"]]\n",
    "\n",
    "            vel = np.array(gps[\"speed\"])\n",
    "            vel_t = np.array(gps[\"timestamp\"])\n",
    "            vel_t -= vel_t[0]\n",
    "\n",
    "            plt.figure(figsize=(24, 12))\n",
    "            plt.plot(vel_t, vel, label=\"speed\")\n",
    "\n",
    "            plt.title(\"speed\", fontsize=25)\n",
    "            plt.xlabel(\"ms\", fontsize=18)\n",
    "            plt.ylabel(\"m/s\", fontsize=18)\n",
    "            plt.show()\n",
    "\n",
    "\n",
    "    gravity = np.array([l[\"x\"] for l in label[\"accelerometer\"]]).mean()\n",
    "    \n",
    "    if locations:\n",
    "        if \"locations\" in label.keys():\n",
    "            loc_keys = label[\"locations\"][0].keys()\n",
    "            loc = {}\n",
    "            for k in loc_keys:\n",
    "                loc[k] = [l[k] for l in label[\"locations\"]]\n",
    "\n",
    "            course = loc[\"course\"]\n",
    "            course = np.array(course)\n",
    "\n",
    "            yaw_rate = course[1:] - course[:-1]\n",
    "            plt.figure(figsize=(24, 12))\n",
    "            if delay:\n",
    "                plt.scatter(range(1000, (len(yaw_rate) + 1) * 1000, 1000), yaw_rate, label=\"yaw rate\", color=\"red\")\n",
    "            else:\n",
    "                plt.scatter(range(delay, (len(yaw_rate) + delay // 1000)* 1000, 1000), yaw_rate, label=\"yaw rate\", color=\"red\")\n",
    "\n",
    "            gyro = label[\"gyro\"]\n",
    "            gyro_t = np.array([l[\"timestamp\"] for l in gyro])\n",
    "            gyro_t -= gyro_t[0]\n",
    "            \n",
    "            gyro_x = np.array([l[\"x\"] for l in gyro])\n",
    "    \n",
    "            if gravity < 0:\n",
    "                gyro_x *= -1\n",
    "            plt.plot(gyro_t, 180 * gyro_x / np.pi + bias, label=\"gyro\", alpha=0.5)\n",
    "\n",
    "            plt.legend(fontsize=25)\n",
    "            plt.title(\"yaw rate\", fontsize=25)\n",
    "            plt.xlabel(\"s\", fontsize=18)\n",
    "            plt.ylabel(\"degrees per second\", fontsize=18)\n",
    "            plt.show()\n",
    "            \n",
    "            \n",
    "            plt.figure(figsize=(24, 12))\n",
    "            plt.plot(course, label=\"course\")\n",
    "\n",
    "            plt.title(\"course\", fontsize=25)\n",
    "            plt.xlabel(\"s\", fontsize=18)\n",
    "            plt.ylabel(\"degrees\", fontsize=18)\n",
    "            plt.show()\n",
    "        \n",
    "    print(\"stats\")\n",
    "    print(f\"gravity: {gravity}\")\n",
    "    \n",
    "def check_gravity(filename):\n",
    "    laebl = get_info_json(filename)\n",
    "\n",
    "    accel_x = np.array([l[\"x\"] for l in accel])\n",
    "    \n",
    "    if accel_x.mean() < -0.5:\n",
    "        return False\n",
    "    else:\n",
    "        return True"
   ]
  },
  {
   "cell_type": "code",
   "execution_count": null,
   "metadata": {},
   "outputs": [],
   "source": [
    "import os\n",
    "import numpy as np\n",
    "\n",
    "json_list = os.listdir(\"/media/urw7rs/hdd/bdd100k/info/100k/train\")\n",
    "\n",
    "#index = 222 # car doesn't move at all but yaw rate has non-zero values\n",
    "#index = 223 # synchronizes at 0\n",
    "index = 1532 # gyro is biased\n",
    "#index = 26326 # reverses\n",
    "index = 1\n",
    "print(json_list[index])\n",
    "graph_imu(json_list[index], gyro=True, accel=True, gps=True, locations=True, bias=-0.5, delay=1100)\n",
    "\n",
    "yaw"
   ]
  },
  {
   "cell_type": "code",
   "execution_count": null,
   "metadata": {},
   "outputs": [],
   "source": [
    "count = 0\n",
    "n = 0\n",
    "for name in json_list[1549:]:\n",
    "    # stop kernel from hanging\n",
    "    break\n",
    "    n += 1\n",
    "    if n % 1000:\n",
    "        print(n)\n",
    "    if not check_gravity(name):\n",
    "        count += 1\n",
    "        print(count)\n",
    "        #print(name)"
   ]
  },
  {
   "cell_type": "code",
   "execution_count": 8,
   "metadata": {},
   "outputs": [],
   "source": [
    "with open(\"/media/urw7rs/hdd/bdd100k/info/100k/train/82c4aa0a-3c44e82d.json\") as f:\n",
    "    x = f.read().replace(\"\\'\", \"\\\"\")\n",
    "    x = x.replace(\"\\'\", \"\\\"\")"
   ]
  },
  {
   "cell_type": "code",
   "execution_count": 227,
   "metadata": {},
   "outputs": [
    {
     "name": "stdout",
     "output_type": "stream",
     "text": [
      "957be2d5-58ec3fc7.json\n"
     ]
    }
   ],
   "source": [
    "n = 0\n",
    "for name in json_list:\n",
    "    label = get_info_json(name)\n",
    "    n += 1\n",
    "    if n % 1000 == 0:\n",
    "        print(label.keys())\n",
    "    if \"locations\" in label.keys() and \"gps\" in label.keys():\n",
    "        print(name)\n",
    "        break"
   ]
  },
  {
   "cell_type": "code",
   "execution_count": 200,
   "metadata": {},
   "outputs": [
    {
     "name": "stdout",
     "output_type": "stream",
     "text": [
      "dict_keys(['locations', 'rideID', 'timelapse', 'endTime', 'gyro', 'startTime', 'filename', 'accelerometer'])\n"
     ]
    }
   ],
   "source": [
    "label = get_info_json(\"3e0f1745-670fdc20.json\")\n",
    "print(label.keys())"
   ]
  },
  {
   "cell_type": "code",
   "execution_count": null,
   "metadata": {},
   "outputs": [],
   "source": []
  }
 ],
 "metadata": {
  "kernelspec": {
   "display_name": "Python 3",
   "language": "python",
   "name": "python3"
  },
  "language_info": {
   "codemirror_mode": {
    "name": "ipython",
    "version": 3
   },
   "file_extension": ".py",
   "mimetype": "text/x-python",
   "name": "python",
   "nbconvert_exporter": "python",
   "pygments_lexer": "ipython3",
   "version": "3.9.5"
  }
 },
 "nbformat": 4,
 "nbformat_minor": 4
}
